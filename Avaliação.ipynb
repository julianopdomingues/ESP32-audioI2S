{
  "nbformat": 4,
  "nbformat_minor": 0,
  "metadata": {
    "colab": {
      "provenance": [],
      "authorship_tag": "ABX9TyOUczkcD4bJf+l2KbdAgVTj",
      "include_colab_link": true
    },
    "kernelspec": {
      "name": "python3",
      "display_name": "Python 3"
    },
    "language_info": {
      "name": "python"
    }
  },
  "cells": [
    {
      "cell_type": "markdown",
      "metadata": {
        "id": "view-in-github",
        "colab_type": "text"
      },
      "source": [
        "<a href=\"https://colab.research.google.com/github/julianopdomingues/ESP32-audioI2S/blob/master/Avalia%C3%A7%C3%A3o.ipynb\" target=\"_parent\"><img src=\"https://colab.research.google.com/assets/colab-badge.svg\" alt=\"Open In Colab\"/></a>"
      ]
    },
    {
      "cell_type": "code",
      "source": [
        "!pip install scikit-learn statsmodels nltk\n",
        "\n",
        "!pip install rouge\n",
        "\n",
        "!pip install nltk"
      ],
      "metadata": {
        "id": "f1rK3GUENVlY",
        "colab": {
          "base_uri": "https://localhost:8080/"
        },
        "outputId": "e3ad256e-e727-44fc-fb93-0240c69c43e3"
      },
      "execution_count": 29,
      "outputs": [
        {
          "output_type": "stream",
          "name": "stdout",
          "text": [
            "Requirement already satisfied: scikit-learn in /usr/local/lib/python3.10/dist-packages (1.2.2)\n",
            "Requirement already satisfied: statsmodels in /usr/local/lib/python3.10/dist-packages (0.14.1)\n",
            "Requirement already satisfied: nltk in /usr/local/lib/python3.10/dist-packages (3.8.1)\n",
            "Requirement already satisfied: numpy>=1.17.3 in /usr/local/lib/python3.10/dist-packages (from scikit-learn) (1.23.5)\n",
            "Requirement already satisfied: scipy>=1.3.2 in /usr/local/lib/python3.10/dist-packages (from scikit-learn) (1.11.4)\n",
            "Requirement already satisfied: joblib>=1.1.1 in /usr/local/lib/python3.10/dist-packages (from scikit-learn) (1.3.2)\n",
            "Requirement already satisfied: threadpoolctl>=2.0.0 in /usr/local/lib/python3.10/dist-packages (from scikit-learn) (3.2.0)\n",
            "Requirement already satisfied: pandas!=2.1.0,>=1.0 in /usr/local/lib/python3.10/dist-packages (from statsmodels) (1.5.3)\n",
            "Requirement already satisfied: patsy>=0.5.4 in /usr/local/lib/python3.10/dist-packages (from statsmodels) (0.5.6)\n",
            "Requirement already satisfied: packaging>=21.3 in /usr/local/lib/python3.10/dist-packages (from statsmodels) (23.2)\n",
            "Requirement already satisfied: click in /usr/local/lib/python3.10/dist-packages (from nltk) (8.1.7)\n",
            "Requirement already satisfied: regex>=2021.8.3 in /usr/local/lib/python3.10/dist-packages (from nltk) (2023.6.3)\n",
            "Requirement already satisfied: tqdm in /usr/local/lib/python3.10/dist-packages (from nltk) (4.66.1)\n",
            "Requirement already satisfied: python-dateutil>=2.8.1 in /usr/local/lib/python3.10/dist-packages (from pandas!=2.1.0,>=1.0->statsmodels) (2.8.2)\n",
            "Requirement already satisfied: pytz>=2020.1 in /usr/local/lib/python3.10/dist-packages (from pandas!=2.1.0,>=1.0->statsmodels) (2023.3.post1)\n",
            "Requirement already satisfied: six in /usr/local/lib/python3.10/dist-packages (from patsy>=0.5.4->statsmodels) (1.16.0)\n",
            "Requirement already satisfied: rouge in /usr/local/lib/python3.10/dist-packages (1.0.1)\n",
            "Requirement already satisfied: six in /usr/local/lib/python3.10/dist-packages (from rouge) (1.16.0)\n",
            "Requirement already satisfied: nltk in /usr/local/lib/python3.10/dist-packages (3.8.1)\n",
            "Requirement already satisfied: click in /usr/local/lib/python3.10/dist-packages (from nltk) (8.1.7)\n",
            "Requirement already satisfied: joblib in /usr/local/lib/python3.10/dist-packages (from nltk) (1.3.2)\n",
            "Requirement already satisfied: regex>=2021.8.3 in /usr/local/lib/python3.10/dist-packages (from nltk) (2023.6.3)\n",
            "Requirement already satisfied: tqdm in /usr/local/lib/python3.10/dist-packages (from nltk) (4.66.1)\n"
          ]
        }
      ]
    },
    {
      "cell_type": "code",
      "execution_count": 30,
      "metadata": {
        "id": "3St3XWgINRb1"
      },
      "outputs": [],
      "source": [
        "import numpy as np\n",
        "import statsmodels.api as sm\n",
        "from rouge import Rouge\n",
        "from sklearn.metrics import accuracy_score, f1_score, confusion_matrix, roc_auc_score\n",
        "from sklearn.model_selection import train_test_split\n",
        "from sklearn.linear_model import LinearRegression\n",
        "from nltk.translate.bleu_score import corpus_bleu, sentence_bleu\n",
        "#from nltk.translate.rouge import Rouge"
      ]
    },
    {
      "cell_type": "code",
      "source": [
        "# Exemplo de classificação binária\n",
        "y_true_classification = np.array([1, 0, 1, 1, 0, 1])\n",
        "y_pred_classification = np.array([1, 0, 1, 0, 0, 1])"
      ],
      "metadata": {
        "id": "8_Z4iv77NVLl"
      },
      "execution_count": 31,
      "outputs": []
    },
    {
      "cell_type": "code",
      "source": [
        "# Métricas de classificação\n",
        "accuracy = accuracy_score(y_true_classification, y_pred_classification)\n",
        "f1 = f1_score(y_true_classification, y_pred_classification)\n",
        "conf_matrix = confusion_matrix(y_true_classification, y_pred_classification)\n",
        "roc_auc = roc_auc_score(y_true_classification, y_pred_classification)\n",
        "\n",
        "print(\"Métricas de Classificação:\")\n",
        "print(f\"Acurácia: {accuracy}\")\n",
        "print(f\"F1-Score: {f1}\")\n",
        "print(f\"Matriz de Confusão:\\n{conf_matrix}\")\n",
        "print(f\"AUC-ROC: {roc_auc}\")"
      ],
      "metadata": {
        "id": "YLL0fn7bN91t",
        "colab": {
          "base_uri": "https://localhost:8080/"
        },
        "outputId": "e8b2e8f4-4f1b-4c40-9004-7938312b8a29"
      },
      "execution_count": 32,
      "outputs": [
        {
          "output_type": "stream",
          "name": "stdout",
          "text": [
            "Métricas de Classificação:\n",
            "Acurácia: 0.8333333333333334\n",
            "F1-Score: 0.8571428571428571\n",
            "Matriz de Confusão:\n",
            "[[2 0]\n",
            " [1 3]]\n",
            "AUC-ROC: 0.875\n"
          ]
        }
      ]
    },
    {
      "cell_type": "code",
      "source": [
        "# Exemplo de regressão\n",
        "X_regression = np.random.rand(100, 1) * 10\n",
        "y_regression = 2 * X_regression + np.random.normal(scale=2, size=(100, 1))\n",
        "\n",
        "X_train, X_test, y_train, y_test = train_test_split(X_regression, y_regression, test_size=0.2, random_state=42)"
      ],
      "metadata": {
        "id": "a_3nmw6GOLvz"
      },
      "execution_count": 33,
      "outputs": []
    },
    {
      "cell_type": "code",
      "source": [
        "# Modelo de regressão\n",
        "model_regression = sm.OLS(y_train, sm.add_constant(X_train)).fit()\n",
        "y_pred_regression = model_regression.predict(sm.add_constant(X_test))\n"
      ],
      "metadata": {
        "id": "n_hcr61zOMP_"
      },
      "execution_count": 34,
      "outputs": []
    },
    {
      "cell_type": "code",
      "source": [
        "# Métrica de regressão (R²)\n",
        "r_squared = model_regression.rsquared\n",
        "print(\"\\nMétricas de Regressão:\")\n",
        "print(f\"R²: {r_squared}\")"
      ],
      "metadata": {
        "id": "JfZnHIkfOR9i",
        "colab": {
          "base_uri": "https://localhost:8080/"
        },
        "outputId": "50bca664-aba0-4a70-e294-d58c6eb27e56"
      },
      "execution_count": 35,
      "outputs": [
        {
          "output_type": "stream",
          "name": "stdout",
          "text": [
            "\n",
            "Métricas de Regressão:\n",
            "R²: 0.8583944236354365\n"
          ]
        }
      ]
    },
    {
      "cell_type": "code",
      "source": [
        "# Exemplo de sumarização\n",
        "reference_summary = \"This is a reference summary.\"\n",
        "generated_summary = \"This is a generated summary.\""
      ],
      "metadata": {
        "id": "F0xtTn61OSVJ"
      },
      "execution_count": 36,
      "outputs": []
    },
    {
      "cell_type": "code",
      "source": [
        "# Métricas de sumarização (ROUGE)\n",
        "rouge = Rouge()\n",
        "scores = rouge.get_scores(generated_summary, reference_summary)\n",
        "print(\"\\nMétricas de Sumarização (ROUGE):\")\n",
        "print(f\"ROUGE-L Precision: {scores[0]['rouge-l']['p']}\")\n",
        "print(f\"ROUGE-L Recall: {scores[0]['rouge-l']['r']}\")\n",
        "print(f\"ROUGE-L F1: {scores[0]['rouge-l']['f']}\")"
      ],
      "metadata": {
        "id": "qiw-UUidOgxv",
        "colab": {
          "base_uri": "https://localhost:8080/"
        },
        "outputId": "6ac5231b-9f13-4910-c627-2b62c2d3f145"
      },
      "execution_count": 37,
      "outputs": [
        {
          "output_type": "stream",
          "name": "stdout",
          "text": [
            "\n",
            "Métricas de Sumarização (ROUGE):\n",
            "ROUGE-L Precision: 0.8\n",
            "ROUGE-L Recall: 0.8\n",
            "ROUGE-L F1: 0.7999999950000002\n"
          ]
        }
      ]
    }
  ]
}